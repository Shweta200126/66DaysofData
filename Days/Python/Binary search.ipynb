{
 "cells": [
  {
   "cell_type": "markdown",
   "id": "f02effae",
   "metadata": {},
   "source": [
    "## Binary Search\n",
    "\n",
    "Its like finding a word in a dictionary, we go half by half by half. "
   ]
  },
  {
   "cell_type": "code",
   "execution_count": 5,
   "id": "7dc34cee",
   "metadata": {},
   "outputs": [],
   "source": [
    "def binary_search(item, my_list):\n",
    "    found = False\n",
    "    first = 0\n",
    "    last = len(my_list) - 1 #12-1=11, the list starts at 0\n",
    "    \n",
    "    while first <= last and found == False:\n",
    "        midpoint = (first + last)//2\n",
    "        if my_list[midpoint] == item:\n",
    "            found = True\n",
    "        else:\n",
    "            if my_list[midpoint] < item:\n",
    "                first = midpoint + 1\n",
    "            else:\n",
    "                last = midpoint - 1\n",
    "            \n",
    "    return found            \n",
    "    "
   ]
  },
  {
   "cell_type": "code",
   "execution_count": 11,
   "id": "db9da9aa",
   "metadata": {},
   "outputs": [
    {
     "name": "stdout",
     "output_type": "stream",
     "text": [
      "[2, 3, 5, 6, 8, 24, 45, 70, 84, 87, 97, 100]\n",
      "True\n",
      "False\n"
     ]
    }
   ],
   "source": [
    "test = [84,97,100, 2,3,5,6,8,24,45,70,87]\n",
    "test1 = sorted(test)\n",
    "print(test1)\n",
    "print(binary_search(87,test1))\n",
    "print(binary_search(88,test1))"
   ]
  }
 ],
 "metadata": {
  "kernelspec": {
   "display_name": "Python 3 (ipykernel)",
   "language": "python",
   "name": "python3"
  },
  "language_info": {
   "codemirror_mode": {
    "name": "ipython",
    "version": 3
   },
   "file_extension": ".py",
   "mimetype": "text/x-python",
   "name": "python",
   "nbconvert_exporter": "python",
   "pygments_lexer": "ipython3",
   "version": "3.8.8"
  }
 },
 "nbformat": 4,
 "nbformat_minor": 5
}
