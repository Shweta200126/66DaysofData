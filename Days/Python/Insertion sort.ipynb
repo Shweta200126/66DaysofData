{
 "cells": [
  {
   "cell_type": "markdown",
   "id": "21aff8ce",
   "metadata": {},
   "source": [
    "## Insertion Sort\n",
    "\n",
    "Keep swaping the numbers unless it is in ascending order b/w a pair of adjacent elements"
   ]
  },
  {
   "cell_type": "code",
   "execution_count": 3,
   "id": "61785917",
   "metadata": {},
   "outputs": [],
   "source": [
    "def insertion_sort(my_list):\n",
    "    n = len(my_list)\n",
    "    \n",
    "    for i in range(1,n):\n",
    "        value = my_list[i]\n",
    "        j = i\n",
    "        while j > 0 and my_list[j-1] > value:\n",
    "            my_list[j] = my_list[j-1]\n",
    "            j = j - 1\n",
    "        my_list[j] = value\n",
    "        \n",
    "    return my_list     "
   ]
  },
  {
   "cell_type": "code",
   "execution_count": 4,
   "id": "16c2bb63",
   "metadata": {},
   "outputs": [
    {
     "name": "stdout",
     "output_type": "stream",
     "text": [
      "[2, 3, 5, 6, 8, 24, 45, 70, 87]\n"
     ]
    }
   ],
   "source": [
    "test_2 = [70,24,87,45,6,3,2,8,5]\n",
    "print(insertion_sort(test_2))"
   ]
  }
 ],
 "metadata": {
  "kernelspec": {
   "display_name": "Python 3 (ipykernel)",
   "language": "python",
   "name": "python3"
  },
  "language_info": {
   "codemirror_mode": {
    "name": "ipython",
    "version": 3
   },
   "file_extension": ".py",
   "mimetype": "text/x-python",
   "name": "python",
   "nbconvert_exporter": "python",
   "pygments_lexer": "ipython3",
   "version": "3.8.8"
  }
 },
 "nbformat": 4,
 "nbformat_minor": 5
}
