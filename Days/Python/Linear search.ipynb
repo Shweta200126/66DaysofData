{
 "cells": [
  {
   "cell_type": "markdown",
   "id": "075e7ce8",
   "metadata": {},
   "source": [
    "## Linear Search"
   ]
  },
  {
   "cell_type": "code",
   "execution_count": 1,
   "id": "06d614ca",
   "metadata": {},
   "outputs": [],
   "source": [
    "def linear_search(item, my_list):\n",
    "    i = 0 \n",
    "    found = False\n",
    "    \n",
    "    while i < len(my_list) and found == False:\n",
    "        if my_list[i] == item:\n",
    "            found = True\n",
    "        else:\n",
    "            i = i + 1\n",
    "            \n",
    "        if found == True:\n",
    "            print('The number appears at', i+1, end= ' ')\n",
    "            \n",
    "    return found        "
   ]
  },
  {
   "cell_type": "code",
   "execution_count": 2,
   "id": "a1769d2d",
   "metadata": {},
   "outputs": [
    {
     "name": "stdout",
     "output_type": "stream",
     "text": [
      "The number appears at 9 True\n",
      "False\n"
     ]
    }
   ],
   "source": [
    "test = [6,5,8,2,3,45,87,24,70]\n",
    "\n",
    "#print(len(test))\n",
    "\n",
    "print(linear_search(70,test))\n",
    "print(linear_search(88,test))"
   ]
  },
  {
   "cell_type": "code",
   "execution_count": null,
   "id": "856a6532",
   "metadata": {},
   "outputs": [],
   "source": []
  }
 ],
 "metadata": {
  "kernelspec": {
   "display_name": "Python 3 (ipykernel)",
   "language": "python",
   "name": "python3"
  },
  "language_info": {
   "codemirror_mode": {
    "name": "ipython",
    "version": 3
   },
   "file_extension": ".py",
   "mimetype": "text/x-python",
   "name": "python",
   "nbconvert_exporter": "python",
   "pygments_lexer": "ipython3",
   "version": "3.8.8"
  }
 },
 "nbformat": 4,
 "nbformat_minor": 5
}
