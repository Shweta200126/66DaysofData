{
 "cells": [
  {
   "cell_type": "markdown",
   "id": "c68ac275",
   "metadata": {},
   "source": [
    "## Linear Search"
   ]
  },
  {
   "cell_type": "code",
   "execution_count": 6,
   "id": "1d3f1c94",
   "metadata": {},
   "outputs": [],
   "source": [
    "def linear_search(item, my_list):\n",
    "    i = 0 #item no. counter in my_list\n",
    "    found = False #checking if we found the item or not\n",
    "    \n",
    "    while i < len(my_list) and found == False:\n",
    "        if my_list[i] == item:\n",
    "            found = True\n",
    "        else:\n",
    "            i = i + 1\n",
    "            \n",
    "        if found == True:\n",
    "            print('The number appears at', i+1, end= ' ')\n",
    "            \n",
    "    \n",
    "    return found #its inside the linear_search() function but outside of while loop   "
   ]
  },
  {
   "cell_type": "code",
   "execution_count": 7,
   "id": "13bbabdd",
   "metadata": {},
   "outputs": [
    {
     "name": "stdout",
     "output_type": "stream",
     "text": [
      "The number appears at 9 True\n",
      "False\n"
     ]
    }
   ],
   "source": [
    "test = [6,5,8,2,3,45,87,24,70]\n",
    "\n",
    "#print(len(test))\n",
    "\n",
    "print(linear_search(70,test))\n",
    "print(linear_search(88,test))"
   ]
  }
 ],
 "metadata": {
  "kernelspec": {
   "display_name": "Python 3 (ipykernel)",
   "language": "python",
   "name": "python3"
  },
  "language_info": {
   "codemirror_mode": {
    "name": "ipython",
    "version": 3
   },
   "file_extension": ".py",
   "mimetype": "text/x-python",
   "name": "python",
   "nbconvert_exporter": "python",
   "pygments_lexer": "ipython3",
   "version": "3.8.8"
  }
 },
 "nbformat": 4,
 "nbformat_minor": 5
}
