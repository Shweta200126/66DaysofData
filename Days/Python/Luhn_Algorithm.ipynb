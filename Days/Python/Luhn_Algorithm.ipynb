{
 "cells": [
  {
   "cell_type": "markdown",
   "metadata": {},
   "source": [
    "## Luhn Algorithm\n",
    "### step 1, request input"
   ]
  },
  {
   "cell_type": "code",
   "execution_count": 4,
   "metadata": {},
   "outputs": [
    {
     "name": "stdout",
     "output_type": "stream",
     "text": [
      "Please enter credit card number:> 4012888888881881\n"
     ]
    },
    {
     "data": {
      "text/plain": [
       "'It has 15 or 16 digits'"
      ]
     },
     "execution_count": 4,
     "metadata": {},
     "output_type": "execute_result"
    }
   ],
   "source": [
    "number = input('Please enter credit card number:> ')\n",
    "\n",
    "'''It has 15 or 16 digits'''"
   ]
  },
  {
   "cell_type": "markdown",
   "metadata": {},
   "source": [
    "## Check validity of number"
   ]
  },
  {
   "cell_type": "code",
   "execution_count": 5,
   "metadata": {},
   "outputs": [
    {
     "name": "stdout",
     "output_type": "stream",
     "text": [
      "4012888888881881 is a valid credit card number.\n"
     ]
    }
   ],
   "source": [
    "num_list = [int(char) for char in number] #making a list of numbers as element\n",
    "\n",
    "num_len = len(num_list) #length of the list \n",
    "\n",
    "num_list_rev = num_list[::-1]\n",
    "\n",
    "double = 0 #sum for 2nd last and to its 2nd positions with 2 multiplied\n",
    "single = 0\n",
    "\n",
    "for i in range(0,num_len):\n",
    "    if i%2 != 0: #checks whether 2nd position or after its 2nd positions or not\n",
    "        if 2*num_list_rev[i]>9: #for two digit numbers\n",
    "            double = double + 2*num_list_rev[i] - 9 \n",
    "        else:\n",
    "            double = double + 2 * num_list_rev[i]  \n",
    "    else:\n",
    "        single = single + num_list_rev[i] #adding all the numbers at not 2nd last and to its 2nd positions\n",
    "\n",
    "if (double+single)%10 == 0: #checking whether its divisible by 10 or not, \n",
    "    print(f'{number} is a valid credit card number.')\n",
    "else:\n",
    "    print(f'{number} is not a valid credit card number.')\n"
   ]
  },
  {
   "cell_type": "raw",
   "metadata": {},
   "source": [
    "To try, credit card numbers:\n",
    "\n",
    "\n",
    "371449635398431\n",
    "\n",
    "378734493671000\n",
    "\n",
    "5610591081018250\n",
    "\n",
    "30569309025904\n",
    "\n",
    "38520000023237\n",
    "\n",
    "6011111111111117\n",
    "\n",
    "6011000990139424\n",
    "\n",
    "3530111333300000\n"
   ]
  },
  {
   "cell_type": "code",
   "execution_count": null,
   "metadata": {},
   "outputs": [],
   "source": []
  }
 ],
 "metadata": {
  "kernelspec": {
   "display_name": "Python 3 (ipykernel)",
   "language": "python",
   "name": "python3"
  },
  "language_info": {
   "codemirror_mode": {
    "name": "ipython",
    "version": 3
   },
   "file_extension": ".py",
   "mimetype": "text/x-python",
   "name": "python",
   "nbconvert_exporter": "python",
   "pygments_lexer": "ipython3",
   "version": "3.8.8"
  }
 },
 "nbformat": 4,
 "nbformat_minor": 2
}
