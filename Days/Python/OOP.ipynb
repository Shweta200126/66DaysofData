{
 "cells": [
  {
   "cell_type": "code",
   "execution_count": 31,
   "id": "cb6bdd21",
   "metadata": {},
   "outputs": [],
   "source": [
    "class Fruit:\n",
    "    def __init__(self): \n",
    "        self.name = \"apple\"\n",
    "        self.colour = \"red\"\n",
    "        \n",
    "    \n",
    "my_fruit = Fruit()\n",
    "\n",
    "#__init__ method is automatically executed with every new class instance\n",
    "#It has a reserved name\n",
    "#Its where we initialize attributes like name or colour"
   ]
  },
  {
   "cell_type": "code",
   "execution_count": 32,
   "id": "9b861493",
   "metadata": {},
   "outputs": [
    {
     "name": "stdout",
     "output_type": "stream",
     "text": [
      "Red\n",
      "Apple\n"
     ]
    }
   ],
   "source": [
    "print(my_fruit.colour.capitalize())\n",
    "print(my_fruit.name.capitalize())"
   ]
  },
  {
   "cell_type": "code",
   "execution_count": 33,
   "id": "ad420f20",
   "metadata": {},
   "outputs": [
    {
     "name": "stdout",
     "output_type": "stream",
     "text": [
      "Green\n",
      "Kiwi\n"
     ]
    }
   ],
   "source": [
    "my_fruit.name = \"kiwi\"\n",
    "my_fruit.colour = \"green\"\n",
    "\n",
    "print(my_fruit.colour.capitalize())\n",
    "print(my_fruit.name.capitalize())"
   ]
  },
  {
   "cell_type": "markdown",
   "id": "465745fa",
   "metadata": {},
   "source": [
    "--------------------------------------------------------------"
   ]
  },
  {
   "cell_type": "code",
   "execution_count": 34,
   "id": "cbaf6543",
   "metadata": {},
   "outputs": [
    {
     "name": "stdout",
     "output_type": "stream",
     "text": [
      "apple red\n"
     ]
    }
   ],
   "source": [
    "class Fruit:\n",
    "    def __init__(self, name, clr):\n",
    "        self.name = name\n",
    "        self.colour = clr\n",
    "        \n",
    "apple = Fruit(\"apple\", \"red\")\n",
    "print(apple.name, apple.colour)\n",
    "\n",
    "banana = Fruit(\"banana\", \"yellow\")\n",
    "\n",
    "#self is an object refering to different objects at a time, \n",
    "# eg: self = apple object \n",
    "# self  = banana object "
   ]
  },
  {
   "cell_type": "markdown",
   "id": "3035ef32",
   "metadata": {},
   "source": [
    "<hr>\n",
    "    <b>Methods<b>\n",
    "<hr>"
   ]
  },
  {
   "cell_type": "code",
   "execution_count": 35,
   "id": "bfbd376d",
   "metadata": {},
   "outputs": [
    {
     "name": "stdout",
     "output_type": "stream",
     "text": [
      "My apple is red\n"
     ]
    }
   ],
   "source": [
    "class Fruit:\n",
    "    def __init__(self, name, clr): #methods\n",
    "        self.name = name #attributes: after \"self.\" prefix, eg name and colour\n",
    "        self.colour = clr\n",
    "    \n",
    "    def details(self): #methods\n",
    "        print(\"My \" + self.name + \" is \" + self.colour)\n",
    "        \n",
    "apple = Fruit(\"apple\", \"red\")\n",
    "#variables assigned to classes are called objects, eg apple\n",
    "apple.details()"
   ]
  },
  {
   "cell_type": "markdown",
   "id": "42543ff9",
   "metadata": {},
   "source": [
    "<hr>\n",
    "<b>Credit:<b> \n",
    "<a href=\"https://youtu.be/f0TrMH9s-VE\">OOP</a>"
   ]
  }
 ],
 "metadata": {
  "kernelspec": {
   "display_name": "Python 3 (ipykernel)",
   "language": "python",
   "name": "python3"
  },
  "language_info": {
   "codemirror_mode": {
    "name": "ipython",
    "version": 3
   },
   "file_extension": ".py",
   "mimetype": "text/x-python",
   "name": "python",
   "nbconvert_exporter": "python",
   "pygments_lexer": "ipython3",
   "version": "3.8.8"
  }
 },
 "nbformat": 4,
 "nbformat_minor": 5
}
